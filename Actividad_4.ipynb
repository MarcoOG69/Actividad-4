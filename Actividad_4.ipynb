{
  "nbformat": 4,
  "nbformat_minor": 0,
  "metadata": {
    "colab": {
      "provenance": [],
      "authorship_tag": "ABX9TyO+aT5MfDEN0+YwIYxBcd60",
      "include_colab_link": true
    },
    "kernelspec": {
      "name": "python3",
      "display_name": "Python 3"
    },
    "language_info": {
      "name": "python"
    }
  },
  "cells": [
    {
      "cell_type": "markdown",
      "metadata": {
        "id": "view-in-github",
        "colab_type": "text"
      },
      "source": [
        "<a href=\"https://colab.research.google.com/github/MarcoOG69/Actividad-4/blob/main/Actividad_4.ipynb\" target=\"_parent\"><img src=\"https://colab.research.google.com/assets/colab-badge.svg\" alt=\"Open In Colab\"/></a>"
      ]
    },
    {
      "cell_type": "code",
      "execution_count": null,
      "metadata": {
        "id": "UfDUooHJwBtz"
      },
      "outputs": [],
      "source": [
        "#Cargamos librerias \n",
        "#Importar librerias \n",
        "import pandas as pd \n",
        "import numpy as np \n",
        "import matplotlib.pyplot as plt \n",
        "import seaborn as sns\n",
        "import scipy.special as special \n",
        "from scipy.optimize import curve_fit \n",
        "from sklearn.metrics import r2_score \n",
        "from sklearn.model_selection import train_test_split \n",
        "from sklearn.preprocessing import StandardScaler "
      ]
    },
    {
      "cell_type": "code",
      "source": [
        "#Cargar archivo csv desde seaborn\n",
        "from google.colab import files \n",
        "files.upload()"
      ],
      "metadata": {
        "id": "s4qm4fc4E8ZB"
      },
      "execution_count": null,
      "outputs": []
    },
    {
      "cell_type": "code",
      "source": [
        "#Carga desde un archivo .xlsx sin indice \n",
        "data= pd.read_excel('microretailer_mit_lift_lab_actualizado.xlsx')"
      ],
      "metadata": {
        "id": "Jkm1lXkzF0CH"
      },
      "execution_count": null,
      "outputs": []
    },
    {
      "cell_type": "code",
      "source": [
        "valores_nulos=data.isnull().sum().sum()\n",
        "valores_nulos"
      ],
      "metadata": {
        "colab": {
          "base_uri": "https://localhost:8080/"
        },
        "id": "VOtpSAgSF7Ec",
        "outputId": "0fde868d-4547-4c0d-b907-b31acc40ec2f"
      },
      "execution_count": null,
      "outputs": [
        {
          "output_type": "execute_result",
          "data": {
            "text/plain": [
              "18171"
            ]
          },
          "metadata": {},
          "execution_count": 46
        }
      ]
    },
    {
      "cell_type": "code",
      "source": [
        "#Sustituir valores nulos por un str en concreto \n",
        "#data[\"268_number_fridges\"]= data[\"268_number_fridges\"].fillna(\"no_existe_información\")\n",
        "data[\"pictures_of_shelves_if_possible\"]= data[\"pictures_of_shelves_if_possible\"].fillna(\"no_photo\")\n",
        "data[\"233_date_establishment\"]= data[\"233_date_establishment\"].fillna(\"no_info\")\n",
        "#data[\"2_current_permanent_employees\"]= data[\"2_current_permanent_employees\"].fillna(\"no_cuenta_con_empleados_permanentes\")\n",
        "#data[\"4_number_permanent_employees_last_year\"]= data[\"4_number_permanent_employees_last_year\"].fillna(\"no_tiene_información\")\n",
        "data[\"5_change_store_space_last_year\"]= data[\"5_change_store_space_last_year\"].fillna(\"no_info\")\n",
        "data[\"6_change_employees_average_salary_last_year\"]= data[\"6_change_employees_average_salary_last_year\"].fillna(\"sin_contestar\")\n",
        "data[\"20_reviews_finances_monthly\"]=data[\"20_reviews_finances_monthly\"].fillna(method=\"ffill\")\n",
        "data[\"49_inventory_records\"]= data[\"49_inventory_records\"].fillna(\"no_info\")\n",
        "data[\"18_sales_records\"]= data[\"18_sales_records\"].fillna(\"no_info\")\n",
        "data[\"155_sales_registers_used_for\"]= data[\"155_sales_registers_used_for\"].fillna(\"no_info\")\n",
        "#data[\"103_number_own_fridges\"]= data[\"103_number_own_fridges\"].fillna(\"nothing\")\n",
        "data[\"19_tax_id\"]=data[\"19_tax_id\"].fillna(method=\"ffill\")\n",
        "#data[\"145_number_direct_competitors\"]= data[\"103_number_own_fridges\"].fillna(\"nothing\")\n",
        "data[\"310_burnout\"]= data[\"310_burnout\"].fillna(\"nothing\")\n",
        "#data[\"24_burnout\"]= data[\"24_burnout\"].fillna(\"nothing\")\n",
        "data[\"186_internet_connection\"]= data[\"186_internet_connection\"].fillna(\"nothing\")\n",
        "data[\"210_sales_channels\"]= data[\"210_sales_channels\"].fillna(\"nothing\")\n",
        "data[\"189_payment_methods\"]= data[\"189_payment_methods\"].fillna(\"nothing\")\n",
        "data[\"28_prefered_payment_method\"]= data[\"28_prefered_payment_method\"].fillna(\"nothing\")\n",
        "data[\"31_different_prices_payment_method\"]= data[\"31_different_prices_payment_method\"].fillna(\"nothing\")\n",
        "data[\"269_cash_discount\"]= data[\"269_cash_discount\"].fillna(\"nothing\")\n",
        "data[\"270_card_extra_charge\"]= data[\"270_card_extra_charge\"].fillna(\"nothing\")\n",
        "data[\"271_card_fee\"]= data[\"271_card_fee\"].fillna(\"nothing\")\n",
        "#data[\"272_card_days_receive_money\"]= data[\"272_card_days_receive_money\"].fillna(\"nothing\")\n",
        "data[\"273_platform_extra_charge\"]= data[\"273_platform_extra_charge\"].fillna(\"nothing\")\n",
        "data[\"274_platform_fee\"]= data[\"274_platform_fee\"].fillna(\"nothing\")\n",
        "data[\"275_platform_days_receive_money\"]= data[\"275_platform_days_receive_money\"].fillna(\"nothing\")\n",
        "data[\"30_payment_methods_large_purchases\"]= data[\"30_payment_methods_large_purchases\"].fillna(\"nothing\")\n",
        "data[\"214_customer_relationship_tools\"]= data[\"214_customer_relationship_tools\"].fillna(\"nothing\")\n",
        "data[\"33_credit_to_customers\"]= data[\"33_credit_to_customers\"].fillna(\"nothing\")\n",
        "#data[\"276_expected_days_informal_credit\"]= data[\"276_expected_days_informal_credit\"].fillna(\"nothing\")\n",
        "data[\"35_interest_rate\"]= data[\"35_interest_rate\"].fillna(\"nothing\")\n",
        "#data[\"36_credit_default_rate\"]= data[\"36_credit_default_rate\"].fillna(\"nothing\")\n",
        "data[\"38_average_margin_profits\"]= data[\"38_average_margin_profits\"].fillna(\"nothing\")\n",
        "data[\"193_sales_planning_tools\"]= data[\"193_sales_planning_tools\"].fillna(\"nothing\")\n",
        "data[\"227_agreement_ecommerce_platforms\"]= data[\"227_agreement_ecommerce_platforms\"].fillna(\"nothing\")\n",
        "data[\"60_services\"]= data[\"60_services\"].fillna(\"nothing\")\n",
        "#data[\"315_frequency_topups\"]= data[\"315_frequency_topups\"].fillna(\"nothing\")\n",
        "#data[\"316_frequency_utility_bills\"]= data[\"316_frequency_utility_bills\"].fillna(\"nothing\")\n",
        "#data[\"317_home_deliveries\"]= data[\"317_home_deliveries\"].fillna(\"nothing\")\n",
        "#data[\"62_frequency_only_services\"]= data[\"62_frequency_only_services\"].fillna(\"nothing\")\n",
        "#data[\"78_number_home_deliveries_week\"]= data[\"78_number_home_deliveries_week\"].fillna(\"nothing\")\n",
        "data[\"77_delivery_timeslots\"]= data[\"77_delivery_timeslots\"].fillna(\"nothing\")\n",
        "data[\"79_delivery_vehicle\"]= data[\"79_delivery_vehicle\"].fillna(\"nothing\")\n",
        "data[\"64_comission_services\"]= data[\"64_comission_services\"].fillna(\"nothing\")\n",
        "data[\"66_percentaje_services_income\"]= data[\"66_percentaje_services_income\"].fillna(\"nothing\")\n",
        "data[\"69_why_not_services\"]= data[\"69_why_not_services\"].fillna(\"nothing\")\n",
        "data[\"311_topups\"]= data[\"311_topups\"].fillna(\"nothing\")\n",
        "data[\"312_payment_of_utilities\"]= data[\"312_payment_of_utilities\"].fillna(\"nothing\")\n",
        "data[\"313_home_deliveries\"]= data[\"313_home_deliveries\"].fillna(\"nothing\")\n",
        "data[\"314_reception_delivery_packages\"]= data[\"314_reception_delivery_packages\"].fillna(\"nothing\")\n",
        "data[\"42_willingness_share_inventory_data_suppliers\"]= data[\"42_willingness_share_inventory_data_suppliers\"].fillna(\"nothing\")\n",
        "data[\"44_willingness_inventory_management_suppliers\"]= data[\"44_willingness_inventory_management_suppliers\"].fillna(\"nothing\")\n",
        "data[\"45_willingness_reorder_suppliers\"]= data[\"45_willingness_reorder_suppliers\"].fillna(\"nothing\")\n",
        "data[\"46_willingness_reorder_suppliers_variety\"]= data[\"46_willingness_reorder_suppliers_variety\"].fillna(\"nothing\")\n",
        "data[\"47_willingness_reorder_suppliers_lower_prices\"]= data[\"47_willingness_reorder_suppliers_lower_prices\"].fillna(\"nothing\")\n",
        "data[\"43_willingness_share_sales_data_suppliers\"]= data[\"43_willingness_share_sales_data_suppliers\"].fillna(\"nothing\")\n",
        "data[\"58_willingness_share_sales_data_mse\"]= data[\"58_willingness_share_sales_data_mse\"].fillna(\"nothing\")\n",
        "data[\"59_willingness_share_sales_data_mse_better_prices\"]= data[\"59_willingness_share_sales_data_mse_better_prices\"].fillna(\"nothing\")\n",
        "#data[\"172_supplier_frequency\"]= data[\"172_supplier_frequency\"].fillna(\"nothing\")\n",
        "data[\"185_place_orders_suppliers\"]= data[\"185_place_orders_suppliers\"].fillna(\"nothing\")\n",
        "data[\"53_special_conditions_suppliers\"]= data[\"53_special_conditions_suppliers\"].fillna(\"nothing\")\n",
        "data[\"278_credit_interest\"]= data[\"278_credit_interest\"].fillna(\"nothing\")\n",
        "data[\"192_procurement_planning_tools\"]= data[\"192_procurement_planning_tools\"].fillna(\"nothing\")\n",
        "data[\"277_payment_method_suppliers\"]= data[\"277_payment_method_suppliers\"].fillna(\"nothing\")\n",
        "data[\"56_procurement_changes_pandemic\"]= data[\"56_procurement_changes_pandemic\"].fillna(\"nothing\")\n",
        "data[\"279_changes_procurement_pandemic\"]= data[\"279_changes_procurement_pandemic\"].fillna(\"nothing\")\n",
        "data[\"157_frequency_organize_shelves\"]= data[\"157_frequency_organize_shelves\"].fillna(\"nothing\")\n",
        "data[\"158_charact_organize_products_on_shelves\"]= data[\"158_charact_organize_products_on_shelves\"].fillna(\"nothing\")\n",
        "data[\"161_actions_stockouts\"]= data[\"161_actions_stockouts\"].fillna(\"nothing\")\n",
        "data[\"162_inventory_extra_space\"]= data[\"162_inventory_extra_space\"].fillna(\"nothing\")\n",
        "data[\"163_number_high_perishable_products\"]= data[\"163_number_high_perishable_products\"].fillna(\"nothing\")\n",
        "data[\"249_technology_training\"]= data[\"249_technology_training\"].fillna(\"nothing\")\n",
        "data[\"250_technology_investment_operations\"]= data[\"250_technology_investment_operations\"].fillna(\"nothing\")\n",
        "data[\"251_technology_investment_customers\"]= data[\"251_technology_investment_customers\"].fillna(\"nothing\")\n",
        "data[\"254_technology_roadmap\"]= data[\"254_technology_roadmap\"].fillna(\"nothing\")\n",
        "data[\"260_technology_scalable\"]= data[\"260_technology_scalable\"].fillna(\"nothing\")\n",
        "data[\"261_technology_organization\"]= data[\"261_technology_organization\"].fillna(\"nothing\")\n",
        "data[\"262_technology_serve_customers\"]= data[\"262_technology_serve_customers\"].fillna(\"nothing\")\n",
        "data[\"263_technology_secure_sales\"]= data[\"263_technology_secure_sales\"].fillna(\"nothing\")\n",
        "data[\"264_technology_budget\"]= data[\"264_technology_budget\"].fillna(\"nothing\")\n",
        "data[\"267_technology_investment_customer_preferences\"]= data[\"267_technology_investment_customer_preferences\"].fillna(\"nothing\")\n",
        "data[\"234_willingness_participate_workshop\"]= data[\"234_willingness_participate_workshop\"].fillna(\"nothing\")\n",
        "data[\"318_shopkeeper_name\"]= data[\"318_shopkeeper_name\"].fillna(\"nothing\")\n",
        "data[\"319_shopkeepers_last_name\"]= data[\"319_shopkeepers_last_name\"].fillna(\"nothing\")\n",
        "data[\"236_whatsapp\"]= data[\"236_whatsapp\"].fillna(\"nothing\")\n",
        "data[\"235_email\"]= data[\"235_email\"].fillna(\"nothing\")\n",
        "data[\"228_store_name\"]= data[\"228_store_name\"].fillna(\"nothing\")\n"
      ],
      "metadata": {
        "id": "--19u-SNdp5G"
      },
      "execution_count": null,
      "outputs": []
    },
    {
      "cell_type": "code",
      "source": [
        "#Corroboramos valores nulos \n",
        "valores_nulos=data.isnull().sum().sum()\n",
        "valores_nulos"
      ],
      "metadata": {
        "colab": {
          "base_uri": "https://localhost:8080/"
        },
        "id": "PL0_SRyDgQRA",
        "outputId": "01058c85-6572-4f8d-f112-f0c6c305de6a"
      },
      "execution_count": null,
      "outputs": [
        {
          "output_type": "execute_result",
          "data": {
            "text/plain": [
              "3428"
            ]
          },
          "metadata": {},
          "execution_count": 48
        }
      ]
    },
    {
      "cell_type": "code",
      "source": [
        "#Filtro por columnas\n",
        "filtro_col=data.iloc[ : , [0,1,2,3,4,5,6,7,8,10,11,12,15,17,18,19,20,23,24,25,26,27,28,30,32,34,35,36,37,38,39,40,41,43,44,45,46,47,48,50,52,53,54,55,61,62,63,64,65,66,67,68,69,70,71,72,73,74,75,76,77,79,80,81,82,83,84,85,86,87,88,89,90,91,92,93,94,95,96,97,98,99,100,101,102,103,104,105]]\n",
        "filtro_col"
      ],
      "metadata": {
        "id": "zo95p7I5gVZ-"
      },
      "execution_count": null,
      "outputs": []
    },
    {
      "cell_type": "code",
      "source": [
        "filtro_i=data.iloc[ : , [13,14,16,21,22,29,31,33,42,49,51,56,57,58,59,60,78]]\n",
        "filtro_i"
      ],
      "metadata": {
        "id": "jGSIHupvgXyu"
      },
      "execution_count": null,
      "outputs": []
    },
    {
      "cell_type": "code",
      "source": [
        "#Corroboramos valores nulos \n",
        "valores_nulos=filtro_i.isnull().sum()\n",
        "valores_nulos"
      ],
      "metadata": {
        "id": "Yhz1oSj6gaWJ"
      },
      "execution_count": null,
      "outputs": []
    },
    {
      "cell_type": "code",
      "source": [
        "#Realizamos diagrama de caja o bigote de cada columna del dataframe \n",
        "fig = plt.figure(figsize =(15, 8))\n",
        "filtro_i.plot(kind='box', vert=False)\n",
        "plt.title(\"Valores Atípicos del Dataframe\")\n",
        "plt.show() #Dibujamos el diagrama"
      ],
      "metadata": {
        "id": "vg7HKB-xgdpJ"
      },
      "execution_count": null,
      "outputs": []
    },
    {
      "cell_type": "code",
      "source": [
        "#Realizamos diagrama de caja o bigote\n",
        "fig = plt.figure(figsize =(10, 6))\n",
        "plt.boxplot(filtro_i[\"104_how_many_shelves_does_the_micro_retailer_have\"])\n",
        "plt.title(\"Valores atípicos del DataFrame\")\n",
        "plt.show() #dibujamos el diagrama"
      ],
      "metadata": {
        "id": "_Y1enAPpggwv"
      },
      "execution_count": null,
      "outputs": []
    },
    {
      "cell_type": "code",
      "source": [
        "#Método aplicando desviación estándar. Encuentro los valores extremos\n",
        "y=filtro_i\n",
        "Limite_Superior= y.mean() + 3*y.std()\n",
        "Limite_Inferior= y.mean() - 3*y.std()\n",
        "print(\"Límite superior permitido\", Limite_Superior)\n",
        "print(\"Limite inferior permitido\", Limite_Inferior)"
      ],
      "metadata": {
        "id": "i3eZ945Hginr"
      },
      "execution_count": null,
      "outputs": []
    },
    {
      "cell_type": "code",
      "source": [
        "#Encontramos Outliers\n",
        "outliers= filtro_i[(y>Limite_Superior)|(y<Limite_Inferior)]\n",
        "outliers"
      ],
      "metadata": {
        "id": "Rypqphh_gluy"
      },
      "execution_count": null,
      "outputs": []
    },
    {
      "cell_type": "code",
      "source": [
        "#Obtenemos datos limpios\n",
        "filtroi_clean= filtro_i[(y<=Limite_Superior)&(y>=Limite_Inferior)]\n",
        "filtroi_clean"
      ],
      "metadata": {
        "id": "UaTWP_JWgpss"
      },
      "execution_count": null,
      "outputs": []
    },
    {
      "cell_type": "code",
      "source": [
        "#Reemplazamos valores atípicos (nulos) del dataframe con \"mean\"\n",
        "#Realizamos una copia del dataframe\n",
        "data_clean=filtroi_clean.copy()\n",
        "data_clean=filtroi_clean.fillna(round(filtroi_clean.mean(),1))\n",
        "data_clean"
      ],
      "metadata": {
        "id": "MaMLmMkTgs7m"
      },
      "execution_count": null,
      "outputs": []
    },
    {
      "cell_type": "code",
      "source": [
        "Microretailer_Datos_Limpios = pd.concat([data_clean, filtro_col], axis=1)\n",
        "Microretailer_Datos_Limpios"
      ],
      "metadata": {
        "id": "kJaqSikDg4Gd"
      },
      "execution_count": null,
      "outputs": []
    },
    {
      "cell_type": "code",
      "source": [
        "#Convertir DataFrame a CSV \n",
        "Microretailer_Datos_Limpios.to_csv(\"Micro_limpio.csv\")"
      ],
      "metadata": {
        "id": "YFznxU7Lg9a3"
      },
      "execution_count": null,
      "outputs": []
    },
    {
      "cell_type": "code",
      "source": [
        "#Descargar archivo filtrado en csv \n",
        "from google.colab import files \n",
        "files.download(\"Micro_limpio.csv\")"
      ],
      "metadata": {
        "colab": {
          "base_uri": "https://localhost:8080/",
          "height": 17
        },
        "id": "3TpHXYi0hC5u",
        "outputId": "7cf8bee9-6b33-4193-c7d5-f6848a614e00"
      },
      "execution_count": null,
      "outputs": [
        {
          "output_type": "display_data",
          "data": {
            "text/plain": [
              "<IPython.core.display.Javascript object>"
            ],
            "application/javascript": [
              "\n",
              "    async function download(id, filename, size) {\n",
              "      if (!google.colab.kernel.accessAllowed) {\n",
              "        return;\n",
              "      }\n",
              "      const div = document.createElement('div');\n",
              "      const label = document.createElement('label');\n",
              "      label.textContent = `Downloading \"${filename}\": `;\n",
              "      div.appendChild(label);\n",
              "      const progress = document.createElement('progress');\n",
              "      progress.max = size;\n",
              "      div.appendChild(progress);\n",
              "      document.body.appendChild(div);\n",
              "\n",
              "      const buffers = [];\n",
              "      let downloaded = 0;\n",
              "\n",
              "      const channel = await google.colab.kernel.comms.open(id);\n",
              "      // Send a message to notify the kernel that we're ready.\n",
              "      channel.send({})\n",
              "\n",
              "      for await (const message of channel.messages) {\n",
              "        // Send a message to notify the kernel that we're ready.\n",
              "        channel.send({})\n",
              "        if (message.buffers) {\n",
              "          for (const buffer of message.buffers) {\n",
              "            buffers.push(buffer);\n",
              "            downloaded += buffer.byteLength;\n",
              "            progress.value = downloaded;\n",
              "          }\n",
              "        }\n",
              "      }\n",
              "      const blob = new Blob(buffers, {type: 'application/binary'});\n",
              "      const a = document.createElement('a');\n",
              "      a.href = window.URL.createObjectURL(blob);\n",
              "      a.download = filename;\n",
              "      div.appendChild(a);\n",
              "      a.click();\n",
              "      div.remove();\n",
              "    }\n",
              "  "
            ]
          },
          "metadata": {}
        },
        {
          "output_type": "display_data",
          "data": {
            "text/plain": [
              "<IPython.core.display.Javascript object>"
            ],
            "application/javascript": [
              "download(\"download_d917eb90-d32b-4a6a-977c-f440480d1946\", \"Micro_limpio.csv\", 394028)"
            ]
          },
          "metadata": {}
        }
      ]
    },
    {
      "cell_type": "code",
      "source": [
        "from turtle import color\n",
        "\n",
        "sns.scatterplot(x='145_number_direct_competitors', y='97_number_of_customers_in_store', color=\"blue\", data=Microretailer_Datos_Limpios)\n",
        "sns.scatterplot(x='272_card_days_receive_money', y='97_number_of_customers_in_store', color=\"red\", data=Microretailer_Datos_Limpios)\n",
        "sns.scatterplot(x='276_expected_days_informal_credit', y='97_number_of_customers_in_store', color=\"yellow\", data=Microretailer_Datos_Limpios)"
      ],
      "metadata": {
        "id": "FM3RL8wuhD_2"
      },
      "execution_count": null,
      "outputs": []
    },
    {
      "cell_type": "code",
      "source": [
        "#Declaramos las variables dependientes e independientes para la regresión lineal\n",
        "Vars_Indep= Microretailer_Datos_Limpios[['145_number_direct_competitors', '272_card_days_receive_money','276_expected_days_informal_credit']]\n",
        "Var_Dep= Microretailer_Datos_Limpios['97_number_of_customers_in_store']"
      ],
      "metadata": {
        "id": "3qzhszyIhKwi"
      },
      "execution_count": null,
      "outputs": []
    },
    {
      "cell_type": "code",
      "source": [
        "#Se define model como la función de regresión lineal\n",
        "from sklearn.linear_model import LinearRegression\n",
        "model= LinearRegression()"
      ],
      "metadata": {
        "id": "qbzKxKZ7hO17"
      },
      "execution_count": null,
      "outputs": []
    },
    {
      "cell_type": "code",
      "source": [
        "#Verificamos la función relacionada al modelo\n",
        "type(model)"
      ],
      "metadata": {
        "colab": {
          "base_uri": "https://localhost:8080/"
        },
        "id": "zkhMkLHzhSAA",
        "outputId": "1b761db7-3907-4b39-9e3e-c924df299762"
      },
      "execution_count": null,
      "outputs": [
        {
          "output_type": "execute_result",
          "data": {
            "text/plain": [
              "sklearn.linear_model._base.LinearRegression"
            ]
          },
          "metadata": {},
          "execution_count": 64
        }
      ]
    },
    {
      "cell_type": "code",
      "source": [
        "#Ajustamos el modelo con las variables antes declaradas\n",
        "model.fit(X=Vars_Indep, y=Var_Dep)"
      ],
      "metadata": {
        "colab": {
          "base_uri": "https://localhost:8080/"
        },
        "id": "wnZInJ3chT-A",
        "outputId": "da23bc39-0721-4066-c15b-793639fd4612"
      },
      "execution_count": null,
      "outputs": [
        {
          "output_type": "execute_result",
          "data": {
            "text/plain": [
              "LinearRegression()"
            ]
          },
          "metadata": {},
          "execution_count": 65
        }
      ]
    },
    {
      "cell_type": "code",
      "source": [
        "#Verificamos los coeficientes obtenidos para el modelo ajustado\n",
        "model.__dict__"
      ],
      "metadata": {
        "id": "yOJKksP7hX-I"
      },
      "execution_count": null,
      "outputs": []
    },
    {
      "cell_type": "code",
      "source": [
        "#Evaluamos la eficiencia del modelo obtenido por medio del coeficiente R2 Determinación\n",
        "model.score(Vars_Indep,Var_Dep)\n"
      ],
      "metadata": {
        "colab": {
          "base_uri": "https://localhost:8080/"
        },
        "id": "XuzL6A3hhafF",
        "outputId": "857676c1-2835-4bed-dfa8-f76722b0d519"
      },
      "execution_count": null,
      "outputs": [
        {
          "output_type": "execute_result",
          "data": {
            "text/plain": [
              "0.026489981050868083"
            ]
          },
          "metadata": {},
          "execution_count": 67
        }
      ]
    },
    {
      "cell_type": "code",
      "source": [
        "#Predecimos los valores de total de accidentes a partir de las variables: \"alcohol\", \"speeding\" y \"no_previous\"\n",
        "y_pred= model.predict(X=Microretailer_Datos_Limpios[['268_number_fridges', '272_card_days_receive_money', '276_expected_days_informal_credit']])\n",
        "y_pred"
      ],
      "metadata": {
        "id": "KtAm2l0fhgot"
      },
      "execution_count": null,
      "outputs": []
    },
    {
      "cell_type": "code",
      "source": [
        "#Insertamos la columna de predicciones en el DataFrame\n",
        "Microretailer_Datos_Limpios.insert(0, 'Predicciones1', y_pred)\n",
        "Microretailer_Datos_Limpios"
      ],
      "metadata": {
        "id": "xvervADJiQ45"
      },
      "execution_count": null,
      "outputs": []
    },
    {
      "cell_type": "code",
      "source": [
        "#Visualizamos la gráfica comparativa entre el total real y el total predecido\n",
        "sns.scatterplot(x='145_number_direct_competitors', y='97_number_of_customers_in_store', color=\"blue\", data=Microretailer_Datos_Limpios)\n",
        "sns.scatterplot(x='145_number_direct_competitors', y='Predicciones1', color=\"red\", data=Microretailer_Datos_Limpios)"
      ],
      "metadata": {
        "id": "g7C0SfNBicTr"
      },
      "execution_count": null,
      "outputs": []
    },
    {
      "cell_type": "code",
      "source": [
        "#Corroboramos cual es el coeficiente de Determinación de nuestro modelo\n",
        "coef_Deter=model.score(X=Vars_Indep, y=Var_Dep)\n",
        "coef_Deter"
      ],
      "metadata": {
        "id": "eUGql6PKhpLG",
        "colab": {
          "base_uri": "https://localhost:8080/"
        },
        "outputId": "0bcaae29-454e-43e6-8443-5c8f941eeab6"
      },
      "execution_count": null,
      "outputs": [
        {
          "output_type": "execute_result",
          "data": {
            "text/plain": [
              "0.026489981050868083"
            ]
          },
          "metadata": {},
          "execution_count": 73
        }
      ]
    },
    {
      "cell_type": "code",
      "source": [
        "#Corroboramos cual es el coeficiente de Correlación de nuestro modelo\n",
        "coef_Correl=np.sqrt(coef_Deter)\n",
        "coef_Correl"
      ],
      "metadata": {
        "id": "gOEhlELkhrgD",
        "colab": {
          "base_uri": "https://localhost:8080/"
        },
        "outputId": "80fbaf29-9ea9-44b6-ee86-024869da1318"
      },
      "execution_count": null,
      "outputs": [
        {
          "output_type": "execute_result",
          "data": {
            "text/plain": [
              "0.16275743009419902"
            ]
          },
          "metadata": {},
          "execution_count": 74
        }
      ]
    },
    {
      "cell_type": "code",
      "source": [
        "from turtle import color\n",
        "sns.scatterplot(x='268_number_fridges', y='4_number_permanent_employees_last_year', color=\"blue\", data=Microretailer_Datos_Limpios)\n",
        "sns.scatterplot(x='104_how_many_shelves_does_the_micro_retailer_have', y='4_number_permanent_employees_last_year', color=\"red\", data=Microretailer_Datos_Limpios)\n",
        "sns.scatterplot(x='2_current_permanent_employees', y='4_number_permanent_employees_last_year', color=\"yellow\", data=Microretailer_Datos_Limpios)#Declaramos las variables dependientes e independientes para la regresión lineal\n",
        "Vars_Indep= Microretailer_Datos_Limpios[['268_number_fridges', '104_how_many_shelves_does_the_micro_retailer_have','2_current_permanent_employees']]\n",
        "Var_Dep= Microretailer_Datos_Limpios['4_number_permanent_employees_last_year']"
      ],
      "metadata": {
        "colab": {
          "base_uri": "https://localhost:8080/",
          "height": 281
        },
        "id": "CCXpCcd8jVDQ",
        "outputId": "a1830788-3ba5-4291-b27d-073860343208"
      },
      "execution_count": null,
      "outputs": [
        {
          "output_type": "display_data",
          "data": {
            "text/plain": [
              "<Figure size 432x288 with 1 Axes>"
            ],
            "image/png": "[encoded data removed]"
          },
          "metadata": {
            "needs_background": "light"
          }
        }
      ]
    },
    {
      "cell_type": "code",
      "source": [
        "#Se define model como la función de regresión lineal\n",
        "from sklearn.linear_model import LinearRegression\n",
        "model= LinearRegression()"
      ],
      "metadata": {
        "id": "TT6Suw0wjZeT"
      },
      "execution_count": null,
      "outputs": []
    },
    {
      "cell_type": "code",
      "source": [
        "#Verificamos la función relacionada al modelo\n",
        "type(model)"
      ],
      "metadata": {
        "colab": {
          "base_uri": "https://localhost:8080/"
        },
        "id": "uc1Qm5IHjb1t",
        "outputId": "f15b5ab5-1652-4ce1-f5b3-c2899d0d189b"
      },
      "execution_count": null,
      "outputs": [
        {
          "output_type": "execute_result",
          "data": {
            "text/plain": [
              "sklearn.linear_model._base.LinearRegression"
            ]
          },
          "metadata": {},
          "execution_count": 77
        }
      ]
    },
    {
      "cell_type": "code",
      "source": [
        "#Ajustamos el modelo con las variables antes declaradas\n",
        "model.fit(X=Vars_Indep, y=Var_Dep)"
      ],
      "metadata": {
        "colab": {
          "base_uri": "https://localhost:8080/"
        },
        "id": "6PU8YwG6jfA4",
        "outputId": "ce310e0d-afb6-4a73-c4ab-d1933c453419"
      },
      "execution_count": null,
      "outputs": [
        {
          "output_type": "execute_result",
          "data": {
            "text/plain": [
              "LinearRegression()"
            ]
          },
          "metadata": {},
          "execution_count": 78
        }
      ]
    },
    {
      "cell_type": "code",
      "source": [
        "\n",
        "model.__dict__"
      ],
      "metadata": {
        "id": "aNGeIaEijoit"
      },
      "execution_count": null,
      "outputs": []
    },
    {
      "cell_type": "code",
      "source": [
        "#Evaluamos la eficiencia del modelo obtenido por medio del coeficiente R2 Determinación\n",
        "model.score(Vars_Indep,Var_Dep)"
      ],
      "metadata": {
        "colab": {
          "base_uri": "https://localhost:8080/"
        },
        "id": "nKg2BrvKjsj9",
        "outputId": "90dd452b-8c48-4869-992d-e65e51e1b67f"
      },
      "execution_count": null,
      "outputs": [
        {
          "output_type": "execute_result",
          "data": {
            "text/plain": [
              "0.3902233581613249"
            ]
          },
          "metadata": {},
          "execution_count": 80
        }
      ]
    },
    {
      "cell_type": "code",
      "source": [
        "#Predecimos los valores de total de accidentes a partir de las variables: \"alcohol\", \"speeding\" y \"no_previous\"\n",
        "y_pred= model.predict(X=Microretailer_Datos_Limpios[['268_number_fridges', '104_how_many_shelves_does_the_micro_retailer_have','2_current_permanent_employees']])\n",
        "y_pred"
      ],
      "metadata": {
        "id": "wCrh1ZeEjvSc"
      },
      "execution_count": null,
      "outputs": []
    },
    {
      "cell_type": "code",
      "source": [
        "#Insertamos la columna de predicciones en el DataFrame\n",
        "Microretailer_Datos_Limpios.insert(0, 'Predicciones2', y_pred)\n",
        "Microretailer_Datos_Limpios"
      ],
      "metadata": {
        "id": "dtm8H6DQj0Ko"
      },
      "execution_count": null,
      "outputs": []
    },
    {
      "cell_type": "code",
      "source": [
        "#Visualizamos la gráfica comparativa entre el total real y el total predecido\n",
        "\n",
        "sns.scatterplot(x='268_number_fridges', y='4_number_permanent_employees_last_year', color=\"blue\", data=Microretailer_Datos_Limpios)\n",
        "sns.scatterplot(x='268_number_fridges', y='Predicciones2', color=\"red\", data=Microretailer_Datos_Limpios)"
      ],
      "metadata": {
        "colab": {
          "base_uri": "https://localhost:8080/",
          "height": 298
        },
        "id": "Y424T4Gvj35D",
        "outputId": "ced4d606-73f2-4f96-9e44-878a7c33561b"
      },
      "execution_count": null,
      "outputs": [
        {
          "output_type": "execute_result",
          "data": {
            "text/plain": [
              "<matplotlib.axes._subplots.AxesSubplot at 0x7f0490f52210>"
            ]
          },
          "metadata": {},
          "execution_count": 83
        },
        {
          "output_type": "display_data",
          "data": {
            "text/plain": [
              "<Figure size 432x288 with 1 Axes>"
            ],
            "image/png": "[encoded data removed]"
          },
          "metadata": {
            "needs_background": "light"
          }
        }
      ]
    },
    {
      "cell_type": "code",
      "source": [
        "#Corroboramos cual es el coeficiente de Determinación de nuestro modelo\n",
        "coef_Deter=model.score(X=Vars_Indep, y=Var_Dep)\n",
        "coef_Deter"
      ],
      "metadata": {
        "colab": {
          "base_uri": "https://localhost:8080/"
        },
        "id": "axlS4vpVj8ZG",
        "outputId": "8fb36809-be40-4f8a-e8fa-93eadc242382"
      },
      "execution_count": null,
      "outputs": [
        {
          "output_type": "execute_result",
          "data": {
            "text/plain": [
              "0.3902233581613249"
            ]
          },
          "metadata": {},
          "execution_count": 84
        }
      ]
    },
    {
      "cell_type": "code",
      "source": [
        "from turtle import color\n",
        "sns.scatterplot(x='272_card_days_receive_money', y='97_number_of_customers_in_store', color=\"blue\", data=Microretailer_Datos_Limpios)\n",
        "sns.scatterplot(x='24_burnout', y='97_number_of_customers_in_store', color=\"red\", data=Microretailer_Datos_Limpios)\n",
        "sns.scatterplot(x='103_number_own_fridges', y='97_number_of_customers_in_store', color=\"yellow\", data=Microretailer_Datos_Limpios)"
      ],
      "metadata": {
        "colab": {
          "base_uri": "https://localhost:8080/",
          "height": 297
        },
        "id": "_ALms3uSj_Xc",
        "outputId": "d0f3659c-1705-440f-fcce-aead94deb657"
      },
      "execution_count": null,
      "outputs": [
        {
          "output_type": "execute_result",
          "data": {
            "text/plain": [
              "<matplotlib.axes._subplots.AxesSubplot at 0x7f0490fa7e90>"
            ]
          },
          "metadata": {},
          "execution_count": 85
        },
        {
          "output_type": "display_data",
          "data": {
            "text/plain": [
              "<Figure size 432x288 with 1 Axes>"
            ],
            "image/png": "[encoded data removed]"
          },
          "metadata": {
            "needs_background": "light"
          }
        }
      ]
    },
    {
      "cell_type": "code",
      "source": [
        "#Declaramos las variables dependientes e independientes para la regresión lineal\n",
        "Vars_Indep= Microretailer_Datos_Limpios[['272_card_days_receive_money', '24_burnout','103_number_own_fridges']]\n",
        "Var_Dep= Microretailer_Datos_Limpios['97_number_of_customers_in_store']"
      ],
      "metadata": {
        "id": "rKE8HnYEkDj4"
      },
      "execution_count": null,
      "outputs": []
    },
    {
      "cell_type": "code",
      "source": [
        "#Se define model como la función de regresión lineal\n",
        "from sklearn.linear_model import LinearRegression\n",
        "model= LinearRegression()"
      ],
      "metadata": {
        "id": "53L3Ukd-kHel"
      },
      "execution_count": null,
      "outputs": []
    },
    {
      "cell_type": "code",
      "source": [
        "#Verificamos la función relacionada al modelo\n",
        "type(model)"
      ],
      "metadata": {
        "colab": {
          "base_uri": "https://localhost:8080/"
        },
        "id": "EyPBG_7RkLWH",
        "outputId": "608f3e2e-89ea-41a7-bb7e-787ab6b05409"
      },
      "execution_count": null,
      "outputs": [
        {
          "output_type": "execute_result",
          "data": {
            "text/plain": [
              "sklearn.linear_model._base.LinearRegression"
            ]
          },
          "metadata": {},
          "execution_count": 88
        }
      ]
    },
    {
      "cell_type": "code",
      "source": [
        "#Ajustamos el modelo con las variables antes declaradas\n",
        "model.fit(X=Vars_Indep, y=Var_Dep)"
      ],
      "metadata": {
        "colab": {
          "base_uri": "https://localhost:8080/"
        },
        "id": "fQVdrGZvkOE6",
        "outputId": "202d5691-0ca5-4959-938a-b24f834d0e7f"
      },
      "execution_count": null,
      "outputs": [
        {
          "output_type": "execute_result",
          "data": {
            "text/plain": [
              "LinearRegression()"
            ]
          },
          "metadata": {},
          "execution_count": 89
        }
      ]
    },
    {
      "cell_type": "code",
      "source": [
        "#Verificamos los coeficientes obtenidos para el modelo ajustado\n",
        "model.__dict__"
      ],
      "metadata": {
        "id": "YajSoZKvkPol"
      },
      "execution_count": null,
      "outputs": []
    },
    {
      "cell_type": "code",
      "source": [
        "#Evaluamos la eficiencia del modelo obtenido por medio del coeficiente R2 Determinación\n",
        "model.score(Vars_Indep,Var_Dep)"
      ],
      "metadata": {
        "colab": {
          "base_uri": "https://localhost:8080/"
        },
        "id": "zP2xJVt7kSsK",
        "outputId": "e3031dbe-0df5-4121-b6a2-e7c772c85318"
      },
      "execution_count": null,
      "outputs": [
        {
          "output_type": "execute_result",
          "data": {
            "text/plain": [
              "0.022765676054767092"
            ]
          },
          "metadata": {},
          "execution_count": 91
        }
      ]
    },
    {
      "cell_type": "code",
      "source": [
        "#Corroboramos cual es el coeficiente de Correlación de nuestro modelo\n",
        "coef_Correl=np.sqrt(coef_Deter)\n",
        "coef_Correl"
      ],
      "metadata": {
        "id": "0-ulJZygkWLx"
      },
      "execution_count": null,
      "outputs": []
    },
    {
      "cell_type": "code",
      "source": [
        "#Predecimos los valores de total de accidentes a partir de las variables: \"alcohol\", \"speeding\" y \"no_previous\"\n",
        "y_pred= model.predict(X=Microretailer_Datos_Limpios[['272_card_days_receive_money', '24_burnout','103_number_own_fridges']])\n",
        "y_pred"
      ],
      "metadata": {
        "id": "-bASNvlTkaov"
      },
      "execution_count": null,
      "outputs": []
    },
    {
      "cell_type": "code",
      "source": [
        "#Insertamos la columna de predicciones en el DataFrame\n",
        "Microretailer_Datos_Limpios.insert(0, 'Predicciones3', y_pred)\n",
        "Microretailer_Datos_Limpios"
      ],
      "metadata": {
        "id": "AlM0Ubk-kf4z"
      },
      "execution_count": null,
      "outputs": []
    },
    {
      "cell_type": "code",
      "source": [
        "#Visualizamos la gráfica comparativa entre el total real y el total predecido\n",
        "\n",
        "sns.scatterplot(x='272_card_days_receive_money', y='97_number_of_customers_in_store', color=\"blue\", data=Microretailer_Datos_Limpios)\n",
        "sns.scatterplot(x='272_card_days_receive_money', y='Predicciones3', color=\"red\", data=Microretailer_Datos_Limpios)"
      ],
      "metadata": {
        "id": "XT-NRX0rkhn8"
      },
      "execution_count": null,
      "outputs": []
    },
    {
      "cell_type": "code",
      "source": [
        "#Corroboramos cual es el coeficiente de Determinación de nuestro modelo\n",
        "coef_Deter=model.score(X=Vars_Indep, y=Var_Dep)\n",
        "coef_Deter"
      ],
      "metadata": {
        "colab": {
          "base_uri": "https://localhost:8080/"
        },
        "id": "IgQuwHsJkkNd",
        "outputId": "f510ebef-44ac-482c-f8fd-77a1b7874c84"
      },
      "execution_count": null,
      "outputs": [
        {
          "output_type": "execute_result",
          "data": {
            "text/plain": [
              "0.022765676054767092"
            ]
          },
          "metadata": {},
          "execution_count": 96
        }
      ]
    },
    {
      "cell_type": "code",
      "source": [
        "#Corroboramos cual es el coeficiente de Correlación de nuestro modelo\n",
        "coef_Correl=np.sqrt(coef_Deter)\n",
        "coef_Correl"
      ],
      "metadata": {
        "colab": {
          "base_uri": "https://localhost:8080/"
        },
        "id": "cuKk_G4ZkmWv",
        "outputId": "43d72a0f-1525-467e-fc9c-97a24dca7c6b"
      },
      "execution_count": null,
      "outputs": [
        {
          "output_type": "execute_result",
          "data": {
            "text/plain": [
              "0.15088298795678423"
            ]
          },
          "metadata": {},
          "execution_count": 97
        }
      ]
    },
    {
      "cell_type": "code",
      "source": [
        "#Declaramos las variables dependientes e independientes para la regresión logística\n",
        "Vars_Indep= Microretailer_Datos_Limpios[['145_number_direct_competitors', '272_card_days_receive_money', '276_expected_days_informal_credit']]\n",
        "Var_Dep= Microretailer_Datos_Limpios['108_does_the_micro_retailer_has_a_barred_window_']"
      ],
      "metadata": {
        "id": "_AtCJ9Z9koM6"
      },
      "execution_count": null,
      "outputs": []
    },
    {
      "cell_type": "code",
      "source": [
        "#Redefinimos las variables\n",
        "X= Vars_Indep\n",
        "y= Var_Dep"
      ],
      "metadata": {
        "id": "6kjarKZdkzwD"
      },
      "execution_count": null,
      "outputs": []
    },
    {
      "cell_type": "code",
      "source": [
        "#Dividimos el conjunto de datos en la parte de entrenamiento y prueba:\n",
        "X_micro, X_test, y_micro, y_test = train_test_split(X, y, test_size=0.3, random_state =None)"
      ],
      "metadata": {
        "id": "VMwNeI8zk1oK"
      },
      "execution_count": null,
      "outputs": []
    },
    {
      "cell_type": "code",
      "source": [
        "#Se escalan todos los datos\n",
        "escalar= StandardScaler()"
      ],
      "metadata": {
        "id": "Cuwuic0kk41w"
      },
      "execution_count": null,
      "outputs": []
    },
    {
      "cell_type": "code",
      "source": [
        "#Para realizar el escalamiento de las variables \"X\" tanto de entrenamiento como de prueba, utilizaremos fit_transform\n",
        "X_micro = escalar.fit_transform(X_micro)\n",
        "X_test = escalar.transform(X_test)"
      ],
      "metadata": {
        "id": "8NXoHp_5k65s"
      },
      "execution_count": null,
      "outputs": []
    },
    {
      "cell_type": "code",
      "source": [
        "#Definimos el algoritmo a utilizar\n",
        "from sklearn.linear_model import LogisticRegression\n",
        "algoritmo = LogisticRegression()"
      ],
      "metadata": {
        "id": "uTLQWZUVk9Bw"
      },
      "execution_count": null,
      "outputs": []
    },
    {
      "cell_type": "code",
      "source": [
        "#Entrenamos el modelo\n",
        "algoritmo.fit(X_micro, y_micro)"
      ],
      "metadata": {
        "colab": {
          "base_uri": "https://localhost:8080/"
        },
        "id": "eaibu-IElCtm",
        "outputId": "07ccbc02-d4b0-4156-e3cb-612e2585ccf2"
      },
      "execution_count": null,
      "outputs": [
        {
          "output_type": "execute_result",
          "data": {
            "text/plain": [
              "LogisticRegression()"
            ]
          },
          "metadata": {},
          "execution_count": 104
        }
      ]
    },
    {
      "cell_type": "code",
      "source": [
        "#Realizamos una predicción\n",
        "y_pred= algoritmo.predict(X_test)\n",
        "y_pred "
      ],
      "metadata": {
        "id": "O32rNYEjlKnq"
      },
      "execution_count": null,
      "outputs": []
    },
    {
      "cell_type": "code",
      "source": [
        "#Verifico la matriz de Confusión\n",
        "from sklearn.metrics import confusion_matrix\n",
        "matriz = confusion_matrix(y_test, y_pred)\n",
        "print('Matriz de Confusión:')\n",
        "print(matriz)"
      ],
      "metadata": {
        "colab": {
          "base_uri": "https://localhost:8080/"
        },
        "id": "HnRgNHRalNnP",
        "outputId": "77553fb4-57be-4e10-d55f-fcc8bad09cc7"
      },
      "execution_count": null,
      "outputs": [
        {
          "output_type": "stream",
          "name": "stdout",
          "text": [
            "Matriz de Confusión:\n",
            "[[69  1]\n",
            " [28  1]]\n"
          ]
        }
      ]
    },
    {
      "cell_type": "code",
      "source": [
        "#Calculo la precisión del modelo \n",
        "from sklearn.metrics import precision_score\n",
        "precision= precision_score(y_test, y_pred, average=\"binary\", pos_label=\"yes\")\n",
        "print('Precision del modelo:')\n",
        "print(precision)"
      ],
      "metadata": {
        "colab": {
          "base_uri": "https://localhost:8080/"
        },
        "id": "cC2rhpgtlSa_",
        "outputId": "1c70072a-1805-4bd2-8c0f-dff4b8f95230"
      },
      "execution_count": null,
      "outputs": [
        {
          "output_type": "stream",
          "name": "stdout",
          "text": [
            "Precision del modelo:\n",
            "0.5\n"
          ]
        }
      ]
    },
    {
      "cell_type": "code",
      "source": [
        "#Calculo la exactitud del modelo\n",
        "from sklearn.metrics import accuracy_score\n",
        "exactitud= accuracy_score(y_test, y_pred)\n",
        "print('Exactitud del modelo')\n",
        "print(exactitud)"
      ],
      "metadata": {
        "colab": {
          "base_uri": "https://localhost:8080/"
        },
        "id": "zvbHPvyZlTmx",
        "outputId": "3c6f96fe-0f5f-4d99-dc30-ca75f0c0729d"
      },
      "execution_count": null,
      "outputs": [
        {
          "output_type": "stream",
          "name": "stdout",
          "text": [
            "Exactitud del modelo\n",
            "0.7070707070707071\n"
          ]
        }
      ]
    },
    {
      "cell_type": "code",
      "source": [
        "#Calculo la sensibilidad del modelo \n",
        "from sklearn.metrics import recall_score\n",
        "sensibilidad=recall_score(y_test, y_pred, average=\"binary\", pos_label=\"yes\")\n",
        "print('Sensibilidad del modelo')\n",
        "print(sensibilidad)"
      ],
      "metadata": {
        "colab": {
          "base_uri": "https://localhost:8080/"
        },
        "id": "ClWwXdKWlWTy",
        "outputId": "a1aa84c2-017e-4fab-a5be-b16badcad1b5"
      },
      "execution_count": null,
      "outputs": [
        {
          "output_type": "stream",
          "name": "stdout",
          "text": [
            "Sensibilidad del modelo\n",
            "0.034482758620689655\n"
          ]
        }
      ]
    },
    {
      "cell_type": "code",
      "source": [
        "#Declaramos las variables dependientes e independientes para la regresión logística\n",
        "Vars_Indep= Microretailer_Datos_Limpios[['268_number_fridges', '104_how_many_shelves_does_the_micro_retailer_have','2_current_permanent_employees']]\n",
        "Var_Dep= Microretailer_Datos_Limpios['99_does_the_micro_retailer_exhibits_products_outside_']"
      ],
      "metadata": {
        "id": "YU1O1QYFlZd_"
      },
      "execution_count": null,
      "outputs": []
    },
    {
      "cell_type": "code",
      "source": [
        "#Redefinimos las variables\n",
        "X= Vars_Indep\n",
        "y= Var_Dep"
      ],
      "metadata": {
        "id": "E7q6LoQFlnsS"
      },
      "execution_count": null,
      "outputs": []
    },
    {
      "cell_type": "code",
      "source": [
        "#Dividimos el conjunto de datos en la parte de entrenamiento y prueba:\n",
        "X_micro, X_test, y_micro, y_test = train_test_split(X, y, test_size=0.3, random_state =None)\n"
      ],
      "metadata": {
        "id": "0jljhXDrlsjl"
      },
      "execution_count": null,
      "outputs": []
    },
    {
      "cell_type": "code",
      "source": [
        "#Se escalan todos los datos\n",
        "escalar= StandardScaler()"
      ],
      "metadata": {
        "id": "ILCmb1Bllvf2"
      },
      "execution_count": null,
      "outputs": []
    },
    {
      "cell_type": "code",
      "source": [
        "#Para realizar el escalamiento de las variables \"X\" tanto de entrenamiento como de prueba, utilizaremos fit_transform\n",
        "X_micro = escalar.fit_transform(X_micro)\n",
        "X_test = escalar.transform(X_test)"
      ],
      "metadata": {
        "id": "Ni0SInbtlwmH"
      },
      "execution_count": null,
      "outputs": []
    },
    {
      "cell_type": "code",
      "source": [
        "#Definimos el algoritmo a utilizar\n",
        "from sklearn.linear_model import LogisticRegression\n",
        "algoritmo = LogisticRegression()"
      ],
      "metadata": {
        "id": "aTdR_wBfl3mq"
      },
      "execution_count": null,
      "outputs": []
    },
    {
      "cell_type": "code",
      "source": [
        "#Entrenamos el modelo\n",
        "algoritmo.fit(X_micro, y_micro)"
      ],
      "metadata": {
        "colab": {
          "base_uri": "https://localhost:8080/"
        },
        "id": "lfqvaK6Fl4Z1",
        "outputId": "1cfe0b82-7046-4f23-8ca3-d3255681d664"
      },
      "execution_count": null,
      "outputs": [
        {
          "output_type": "execute_result",
          "data": {
            "text/plain": [
              "LogisticRegression()"
            ]
          },
          "metadata": {},
          "execution_count": 117
        }
      ]
    },
    {
      "cell_type": "code",
      "source": [
        "#Realizamos una predicción\n",
        "y_pred= algoritmo.predict(X_test)\n",
        "y_pred "
      ],
      "metadata": {
        "id": "a3RhPH9Xl73J"
      },
      "execution_count": null,
      "outputs": []
    },
    {
      "cell_type": "code",
      "source": [
        "#Verifico la matriz de Confusión\n",
        "from sklearn.metrics import confusion_matrix\n",
        "matriz = confusion_matrix(y_test, y_pred)\n",
        "print('Matriz de Confusión:')\n",
        "print(matriz)"
      ],
      "metadata": {
        "colab": {
          "base_uri": "https://localhost:8080/"
        },
        "id": "HdvsvLInl_Io",
        "outputId": "fec0ff27-6084-41eb-8d4f-eef9f0361129"
      },
      "execution_count": null,
      "outputs": [
        {
          "output_type": "stream",
          "name": "stdout",
          "text": [
            "Matriz de Confusión:\n",
            "[[62  0]\n",
            " [37  0]]\n"
          ]
        }
      ]
    },
    {
      "cell_type": "code",
      "source": [
        "#Calculo la precisión del modelo \n",
        "from sklearn.metrics import precision_score\n",
        "precision= precision_score(y_test, y_pred, average=\"binary\", pos_label=\"yes\")\n",
        "print('Precision del modelo:')\n",
        "print(precision)"
      ],
      "metadata": {
        "id": "Q5dQbFYTmCWm"
      },
      "execution_count": null,
      "outputs": []
    },
    {
      "cell_type": "code",
      "source": [
        "#Calculo la exactitud del modelo\n",
        "from sklearn.metrics import accuracy_score\n",
        "exactitud= accuracy_score(y_test, y_pred)\n",
        "print('Exactitud del modelo')\n",
        "print(exactitud)"
      ],
      "metadata": {
        "colab": {
          "base_uri": "https://localhost:8080/"
        },
        "id": "rE9bi0JwmHF8",
        "outputId": "b623b944-fe5b-4197-ca6a-56be3e1bde40"
      },
      "execution_count": null,
      "outputs": [
        {
          "output_type": "stream",
          "name": "stdout",
          "text": [
            "Exactitud del modelo\n",
            "0.6262626262626263\n"
          ]
        }
      ]
    },
    {
      "cell_type": "code",
      "source": [
        "#Calculo la sensibilidad del modelo \n",
        "from sklearn.metrics import recall_score\n",
        "sensibilidad=recall_score(y_test, y_pred, average=\"binary\", pos_label=\"yes\")\n",
        "print('Sensibilidad del modelo')\n",
        "print(sensibilidad)"
      ],
      "metadata": {
        "colab": {
          "base_uri": "https://localhost:8080/"
        },
        "id": "4sKbo2u-mJyp",
        "outputId": "591c9f06-46e6-4260-a404-0f26f1c4a38f"
      },
      "execution_count": null,
      "outputs": [
        {
          "output_type": "stream",
          "name": "stdout",
          "text": [
            "Sensibilidad del modelo\n",
            "0.0\n"
          ]
        }
      ]
    },
    {
      "cell_type": "code",
      "source": [
        "#Declaramos las variables dependientes e independientes para la regresión logística\n",
        "Vars_Indep= Microretailer_Datos_Limpios[['272_card_days_receive_money', '24_burnout','103_number_own_fridges']]\n",
        "Var_Dep= Microretailer_Datos_Limpios['102_does_the_micro_retailer_sells_fresh_products_']"
      ],
      "metadata": {
        "id": "bj6hs7l2mPSh"
      },
      "execution_count": null,
      "outputs": []
    },
    {
      "cell_type": "code",
      "source": [
        "#Redefinimos las variables\n",
        "X= Vars_Indep\n",
        "y= Var_Dep"
      ],
      "metadata": {
        "id": "IMbxYzEHmQV0"
      },
      "execution_count": null,
      "outputs": []
    },
    {
      "cell_type": "code",
      "source": [
        "#Dividimos el conjunto de datos en la parte de entrenamiento y prueba:\n",
        "X_micro, X_test, y_micro, y_test = train_test_split(X, y, test_size=0.3, random_state =None)"
      ],
      "metadata": {
        "id": "d-wtJzcXmUAk"
      },
      "execution_count": null,
      "outputs": []
    },
    {
      "cell_type": "code",
      "source": [
        "#Se escalan todos los datos\n",
        "escalar= StandardScaler()"
      ],
      "metadata": {
        "id": "M9PJozDAmU9l"
      },
      "execution_count": null,
      "outputs": []
    },
    {
      "cell_type": "code",
      "source": [
        "#Para realizar el escalamiento de las variables \"X\" tanto de entrenamiento como de prueba, utilizaremos fit_transform\n",
        "X_micro = escalar.fit_transform(X_micro)\n",
        "X_test = escalar.transform(X_test)"
      ],
      "metadata": {
        "id": "vJjnvec9mXgA"
      },
      "execution_count": null,
      "outputs": []
    },
    {
      "cell_type": "code",
      "source": [
        "#Definimos el algoritmo a utilizar\n",
        "from sklearn.linear_model import LogisticRegression\n",
        "algoritmo = LogisticRegression()"
      ],
      "metadata": {
        "id": "V5I5vS9omaHe"
      },
      "execution_count": null,
      "outputs": []
    },
    {
      "cell_type": "code",
      "source": [
        "#Entrenamos el modelo\n",
        "algoritmo.fit(X_micro, y_micro)"
      ],
      "metadata": {
        "colab": {
          "base_uri": "https://localhost:8080/"
        },
        "id": "iraq2t0hmcd3",
        "outputId": "08b78bc0-0bdb-4fec-a249-a354850a5f0a"
      },
      "execution_count": null,
      "outputs": [
        {
          "output_type": "execute_result",
          "data": {
            "text/plain": [
              "LogisticRegression()"
            ]
          },
          "metadata": {},
          "execution_count": 129
        }
      ]
    },
    {
      "cell_type": "code",
      "source": [
        "#Realizamos una predicción\n",
        "y_pred= algoritmo.predict(X_test)\n",
        "y_pred "
      ],
      "metadata": {
        "id": "fm6aobO3menv"
      },
      "execution_count": null,
      "outputs": []
    },
    {
      "cell_type": "code",
      "source": [
        "#Verifico la matriz de Confusión\n",
        "from sklearn.metrics import confusion_matrix\n",
        "matriz = confusion_matrix(y_test, y_pred)\n",
        "print('Matriz de Confusión:')\n",
        "print(matriz)"
      ],
      "metadata": {
        "id": "wgUdY9T5miJm"
      },
      "execution_count": null,
      "outputs": []
    },
    {
      "cell_type": "code",
      "source": [
        "#Calculo la precisión del modelo \n",
        "from sklearn.metrics import precision_score\n",
        "precision= precision_score(y_test, y_pred, average=\"binary\", pos_label=\"yes\")\n",
        "print('Precision del modelo:')\n",
        "print(precision)"
      ],
      "metadata": {
        "colab": {
          "base_uri": "https://localhost:8080/"
        },
        "id": "jPbafPOgmllr",
        "outputId": "d455cd2c-44c8-45d6-9055-b9a68b3e93e3"
      },
      "execution_count": null,
      "outputs": [
        {
          "output_type": "stream",
          "name": "stdout",
          "text": [
            "Precision del modelo:\n",
            "0.875\n"
          ]
        }
      ]
    },
    {
      "cell_type": "code",
      "source": [
        "#Calculo la exactitud del modelo\n",
        "from sklearn.metrics import accuracy_score\n",
        "exactitud= accuracy_score(y_test, y_pred)\n",
        "print('Exactitud del modelo')\n",
        "print(exactitud)"
      ],
      "metadata": {
        "colab": {
          "base_uri": "https://localhost:8080/"
        },
        "id": "XbiQVbOlmoz0",
        "outputId": "cfac361f-cf12-4039-ae6b-a46d69d2e5f6"
      },
      "execution_count": null,
      "outputs": [
        {
          "output_type": "stream",
          "name": "stdout",
          "text": [
            "Exactitud del modelo\n",
            "0.6060606060606061\n"
          ]
        }
      ]
    },
    {
      "cell_type": "code",
      "source": [
        "#Calculo la sensibilidad del modelo \n",
        "from sklearn.metrics import recall_score\n",
        "sensibilidad=recall_score(y_test, y_pred, average=\"binary\", pos_label=\"yes\")\n",
        "print('Sensibilidad del modelo')\n",
        "print(sensibilidad)"
      ],
      "metadata": {
        "id": "qrtOmI0lmraR"
      },
      "execution_count": null,
      "outputs": []
    }
  ]
}